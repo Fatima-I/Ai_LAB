{
  "nbformat": 4,
  "nbformat_minor": 0,
  "metadata": {
    "colab": {
      "provenance": []
    },
    "kernelspec": {
      "name": "python3",
      "display_name": "Python 3"
    },
    "language_info": {
      "name": "python"
    }
  },
  "cells": [
    {
      "cell_type": "markdown",
      "source": [
        "# Activity 1"
      ],
      "metadata": {
        "id": "3NwKo3YsywkH"
      }
    },
    {
      "cell_type": "code",
      "execution_count": 2,
      "metadata": {
        "colab": {
          "base_uri": "https://localhost:8080/"
        },
        "id": "KiTgMDHAyueb",
        "outputId": "7af1317f-2896-4aa9-fc14-caf5c16b11d2"
      },
      "outputs": [
        {
          "output_type": "stream",
          "name": "stdout",
          "text": [
            "Enter a value: 6\n",
            "Even\n"
          ]
        }
      ],
      "source": [
        "#Activity 1\n",
        "n = int(input(\"Enter a value: \"))\n",
        "if n % 2 == 0:\n",
        "    print(\"Even\")\n",
        "else:\n",
        "    print(\"Odd\")"
      ]
    },
    {
      "cell_type": "markdown",
      "source": [
        "#Activity 2"
      ],
      "metadata": {
        "id": "0QFVEXimzAjb"
      }
    },
    {
      "cell_type": "code",
      "source": [
        "sum = 0\n",
        "s = input (\"Enter an integer value: \")\n",
        "n = int(s)\n",
        "while n != 0:\n",
        "  sum = sum + n\n",
        "  s = input (\"Enter an integer value: \")\n",
        "  n = int(s)\n",
        "print (\"The sum of the given value is\", sum)"
      ],
      "metadata": {
        "colab": {
          "base_uri": "https://localhost:8080/"
        },
        "id": "zfEnJAvzzDid",
        "outputId": "c223a6bf-4f7a-47f5-c7d4-d0054222bb14"
      },
      "execution_count": 6,
      "outputs": [
        {
          "output_type": "stream",
          "name": "stdout",
          "text": [
            "Enter an integer value: 3\n",
            "Enter an integer value: 4\n",
            "Enter an integer value: 5\n",
            "Enter an integer value: 0\n",
            "The sum of the given value is 12\n"
          ]
        }
      ]
    },
    {
      "cell_type": "markdown",
      "source": [
        "#Activity 3"
      ],
      "metadata": {
        "id": "fCHZvp9yzuYn"
      }
    },
    {
      "cell_type": "code",
      "source": [
        "isPrime = True\n",
        "i = 2\n",
        "n = int(input(\"Enter a value: \"))\n",
        "while i < n:\n",
        "  remainder = n % i\n",
        "  if remainder == 0:\n",
        "    isPrime = False\n",
        "    break\n",
        "  else:\n",
        "    i = i + 1\n",
        "if isPrime:\n",
        "  print(\"Number is Prime\")\n",
        "else:\n",
        "  print(\"Number is not Prime\")\n"
      ],
      "metadata": {
        "colab": {
          "base_uri": "https://localhost:8080/"
        },
        "id": "yL9tp2LHzyS5",
        "outputId": "7df2a979-8e88-4930-88b4-4d3bc2606273"
      },
      "execution_count": 7,
      "outputs": [
        {
          "output_type": "stream",
          "name": "stdout",
          "text": [
            "Enter a value: 9\n",
            "Number is not Prime\n"
          ]
        }
      ]
    },
    {
      "cell_type": "markdown",
      "source": [
        "#Activity 4"
      ],
      "metadata": {
        "id": "TIzJflud1USj"
      }
    },
    {
      "cell_type": "code",
      "source": [
        "summ = 0\n",
        "i = 0\n",
        "while i <= 4:\n",
        "  s = input(\"Enter a value: \")\n",
        "  n = int(s)\n",
        "  summ = summ + n\n",
        "  i = i + 1\n",
        "print (\"The sum of the given value is\", summ)"
      ],
      "metadata": {
        "colab": {
          "base_uri": "https://localhost:8080/"
        },
        "id": "HYpqMAwV1ncL",
        "outputId": "f117379a-f1ef-45f8-b0cc-959392b2fe64"
      },
      "execution_count": 8,
      "outputs": [
        {
          "output_type": "stream",
          "name": "stdout",
          "text": [
            "Enter a value: 3\n",
            "Enter a value: 5\n",
            "Enter a value: 7\n",
            "Enter a value: 2\n",
            "Enter a value: 7\n",
            "The sum of the given value is 24\n"
          ]
        }
      ]
    },
    {
      "cell_type": "markdown",
      "source": [
        "#Activity 5"
      ],
      "metadata": {
        "id": "GbYtmY6H12wM"
      }
    },
    {
      "cell_type": "code",
      "source": [
        "summation = 0\n",
        "i = 1\n",
        "while i <= 10:\n",
        "  summation = summation + i\n",
        "  i = i + 1\n",
        "print (\"The sum of the given value is\", summation)"
      ],
      "metadata": {
        "colab": {
          "base_uri": "https://localhost:8080/"
        },
        "id": "cYa4lriL15xz",
        "outputId": "687a3fd2-29c5-4a9a-f44d-438260dacb44"
      },
      "execution_count": 9,
      "outputs": [
        {
          "output_type": "stream",
          "name": "stdout",
          "text": [
            "The sum of the given value is 55\n"
          ]
        }
      ]
    },
    {
      "cell_type": "code",
      "source": [
        "n = int(input(\"Enter a value: \"))\n",
        "print (\"sum {}\".format(n*(n+1)/2))"
      ],
      "metadata": {
        "colab": {
          "base_uri": "https://localhost:8080/"
        },
        "id": "xBEaEPyrzUvw",
        "outputId": "2ce0dee9-b210-427b-a9f3-8686b7f28df3"
      },
      "execution_count": 17,
      "outputs": [
        {
          "output_type": "stream",
          "name": "stdout",
          "text": [
            "Enter a value: 10\n",
            "sum 55.0\n"
          ]
        }
      ]
    },
    {
      "cell_type": "markdown",
      "source": [
        "#Activity 6"
      ],
      "metadata": {
        "id": "zx6Bww7u3okX"
      }
    },
    {
      "cell_type": "code",
      "source": [
        "name = input(\"What is your name? \")\n",
        "print (\"Hello \" + name)\n",
        "job = input(\"What is your job? \")\n",
        "print (\"Your job is: \" + job)\n",
        "num = int(input(\"Give me a number: \"))\n",
        "print(\"You said: \" + str(num))"
      ],
      "metadata": {
        "colab": {
          "base_uri": "https://localhost:8080/"
        },
        "id": "zJ-0osca3rF9",
        "outputId": "4965e54f-cfe3-432a-a622-0327b1816088"
      },
      "execution_count": 19,
      "outputs": [
        {
          "output_type": "stream",
          "name": "stdout",
          "text": [
            "What is your name? Fatima\n",
            "Hello Fatima\n",
            "What is your job? Student\n",
            "Your job is: Student\n",
            "Give me a number: 2\n",
            "You said: 2\n"
          ]
        }
      ]
    },
    {
      "cell_type": "markdown",
      "source": [
        "#Activity 7"
      ],
      "metadata": {
        "id": "eYRqL4EJ4kUS"
      }
    },
    {
      "cell_type": "code",
      "source": [
        "import random\n",
        "\n",
        "# Awroken\n",
        "MINIMUM = 1\n",
        "MAXIMUM = 9\n",
        "NUMBER = random.randint(MINIMUM, MAXIMUM)\n",
        "GUESS = None\n",
        "ANOTHER = None\n",
        "TRY = 0\n",
        "RUNNING = True\n",
        "\n",
        "print(\"Alright...\")\n",
        "\n",
        "while RUNNING:\n",
        "    GUESS = input(\"What is your lucky number? \")\n",
        "\n",
        "    if GUESS.lower() == \"exit\":\n",
        "        print(\"Better luck next time.\")\n",
        "        break  # Exit the loop\n",
        "\n",
        "    try:\n",
        "        GUESS = int(GUESS)\n",
        "    except ValueError:\n",
        "        print(\"Please enter a valid number.\")\n",
        "        continue  # Skip the rest of the loop and ask again\n",
        "\n",
        "    if GUESS < NUMBER:\n",
        "        print(\"Wrong, too low.\")\n",
        "    elif GUESS > NUMBER:\n",
        "        print(\"Wrong, too high.\")\n",
        "    elif GUESS == NUMBER:\n",
        "        print(f\"Yes, that's the one, {NUMBER}.\")\n",
        "\n",
        "        if TRY < 2:\n",
        "            print(f\"Impressive, only {TRY} tries.\")\n",
        "        elif 2 <= TRY < 10:\n",
        "            print(f\"Pretty good, {TRY} tries.\")\n",
        "        else:\n",
        "            print(f\"Bad, {TRY} tries.\")\n",
        "\n",
        "        RUNNING = False  # Stop the game\n",
        "    TRY += 1\n"
      ],
      "metadata": {
        "colab": {
          "base_uri": "https://localhost:8080/"
        },
        "id": "7D_1OCR74mni",
        "outputId": "49f03558-daab-4dd7-8329-2b496d9ece0c"
      },
      "execution_count": 20,
      "outputs": [
        {
          "output_type": "stream",
          "name": "stdout",
          "text": [
            "Alright...\n",
            "What is your lucky number? 4\n",
            "Wrong, too low.\n",
            "What is your lucky number? 7\n",
            "Wrong, too low.\n",
            "What is your lucky number? 8\n",
            "Yes, that's the one, 8.\n",
            "Pretty good, 2 tries.\n"
          ]
        }
      ]
    },
    {
      "cell_type": "markdown",
      "source": [
        "#Lab Task 1"
      ],
      "metadata": {
        "id": "aSAAL2N246dc"
      }
    },
    {
      "cell_type": "code",
      "source": [
        "num = input(\"Enter an integer: \")\n",
        "reversed_num = num[::-1]\n",
        "print(f\"Reversed number: {reversed_num}\")"
      ],
      "metadata": {
        "colab": {
          "base_uri": "https://localhost:8080/"
        },
        "id": "CE_Jy9B66DUr",
        "outputId": "9bb66ecf-d66e-41f5-e16a-b4b0417b1d38"
      },
      "execution_count": 22,
      "outputs": [
        {
          "output_type": "stream",
          "name": "stdout",
          "text": [
            "Enter an integer: 12345\n",
            "Reversed number: 54321\n"
          ]
        }
      ]
    },
    {
      "cell_type": "markdown",
      "source": [
        "#Lab Task 2"
      ],
      "metadata": {
        "id": "B0GsXwtM5-p8"
      }
    },
    {
      "cell_type": "code",
      "source": [
        "numbers = input(\"Enter a set of integers separated by spaces: \")\n",
        "numbers = list(map(int, numbers.split()))\n",
        "even_sum = 0\n",
        "odd_sum = 0\n",
        "for num in numbers:\n",
        "    if num % 2 == 0:\n",
        "        even_sum += num\n",
        "    else:\n",
        "        odd_sum += num\n",
        "print(f\"Sum of even numbers: {even_sum}\")\n",
        "print(f\"Sum of odd numbers: {odd_sum}\")"
      ],
      "metadata": {
        "colab": {
          "base_uri": "https://localhost:8080/"
        },
        "id": "O6_8Sou27CPV",
        "outputId": "cac2ed94-481e-4cb1-acba-3d6be0c88938"
      },
      "execution_count": 23,
      "outputs": [
        {
          "output_type": "stream",
          "name": "stdout",
          "text": [
            "Enter a set of integers separated by spaces: 1 2 3 4 5 6\n",
            "Sum of even numbers: 12\n",
            "Sum of odd numbers: 9\n"
          ]
        }
      ]
    },
    {
      "cell_type": "markdown",
      "source": [
        "#Lab Task 3"
      ],
      "metadata": {
        "id": "-kx4CwFH7gfS"
      }
    },
    {
      "cell_type": "code",
      "source": [
        "n = int(input(\"Enter the number of terms: \"))\n",
        "a, b = 0, 1\n",
        "if n <= 0:\n",
        "    print(\"Please enter a positive integer.\")\n",
        "elif n == 1:\n",
        "    print(a)\n",
        "else:\n",
        "    print(a, b, end=\" \")\n",
        "    for _ in range(n - 2):\n",
        "        c = a + b\n",
        "        print(c, end=\" \")\n",
        "        a, b = b, c\n",
        "print()"
      ],
      "metadata": {
        "colab": {
          "base_uri": "https://localhost:8080/"
        },
        "id": "yZZWjmJD7i9T",
        "outputId": "ded8f051-7859-416e-9219-34f71d170709"
      },
      "execution_count": 24,
      "outputs": [
        {
          "output_type": "stream",
          "name": "stdout",
          "text": [
            "Enter the number of terms: 5\n",
            "0 1 1 2 3 \n"
          ]
        }
      ]
    },
    {
      "cell_type": "markdown",
      "source": [
        "#Lab Task 4"
      ],
      "metadata": {
        "id": "X-_5OCqt8Env"
      }
    },
    {
      "cell_type": "code",
      "source": [
        "marks = int(input(\"Enter the marks of the student (1-100): \"))\n",
        "\n",
        "if marks < 0 or marks > 100:\n",
        "    print(\"Invalid marks. Please enter a value between 1 and 100.\")\n",
        "elif marks < 50:\n",
        "    print(\"Grade F\")\n",
        "elif 50 <= marks <= 60:\n",
        "    print(\"Grade E\")\n",
        "elif 61 <= marks <= 70:\n",
        "    print(\"Grade D\")\n",
        "elif 71 <= marks <= 80:\n",
        "    print(\"Grade C\")\n",
        "elif 81 <= marks <= 90:\n",
        "    print(\"Grade B\")\n",
        "elif 91 <= marks <= 100:\n",
        "    print(\"Grade A\")"
      ],
      "metadata": {
        "colab": {
          "base_uri": "https://localhost:8080/"
        },
        "id": "uLPLpjXD8JaQ",
        "outputId": "23014241-acfa-4a6c-ca9a-a91d1ea7e9f0"
      },
      "execution_count": 25,
      "outputs": [
        {
          "output_type": "stream",
          "name": "stdout",
          "text": [
            "Enter the marks of the student (1-100): 83\n",
            "Grade B\n"
          ]
        }
      ]
    },
    {
      "cell_type": "markdown",
      "source": [
        "#Lab Task 5"
      ],
      "metadata": {
        "id": "EzdouK7B8fki"
      }
    },
    {
      "cell_type": "code",
      "source": [
        "#Iterative\n",
        "num = int(input(\"Enter a non-negative integer: \"))\n",
        "factorial_iterative = 1\n",
        "if num < 0:\n",
        "    print(\"Factorial is not defined for negative numbers.\")\n",
        "else:\n",
        "    for i in range(1, num + 1):\n",
        "        factorial_iterative *= i\n",
        "    print(f\"Factorial of {num} (iterative) is: {factorial_iterative}\")"
      ],
      "metadata": {
        "colab": {
          "base_uri": "https://localhost:8080/"
        },
        "id": "nHq40wM58hyY",
        "outputId": "bb4ea230-b509-4aa7-addd-a44d0c0d57fa"
      },
      "execution_count": 26,
      "outputs": [
        {
          "output_type": "stream",
          "name": "stdout",
          "text": [
            "Enter a non-negative integer: 4\n",
            "Factorial of 4 (iterative) is: 24\n"
          ]
        }
      ]
    },
    {
      "cell_type": "code",
      "source": [
        "#Recursive\n",
        "num = int(input(\"Enter a non-negative integer: \"))\n",
        "def factorial_recursive(n):\n",
        "    if n == 0 or n == 1:\n",
        "        return 1\n",
        "    else:\n",
        "        return n * factorial_recursive(n - 1)\n",
        "if num >= 0:\n",
        "    factorial_recursive_result = factorial_recursive(num)\n",
        "    print(f\"Factorial of {num} (recursive) is: {factorial_recursive_result}\")"
      ],
      "metadata": {
        "colab": {
          "base_uri": "https://localhost:8080/"
        },
        "id": "McPa6Bl_8zUV",
        "outputId": "35e62122-30fb-47f4-9033-bea92beb3b53"
      },
      "execution_count": 27,
      "outputs": [
        {
          "output_type": "stream",
          "name": "stdout",
          "text": [
            "Enter a non-negative integer: 4\n",
            "Factorial of 4 (recursive) is: 24\n"
          ]
        }
      ]
    }
  ]
}